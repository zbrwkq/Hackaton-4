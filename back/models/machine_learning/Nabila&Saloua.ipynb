{
  "nbformat": 4,
  "nbformat_minor": 0,
  "metadata": {
    "colab": {
      "provenance": [],
      "gpuType": "T4"
    },
    "kernelspec": {
      "name": "python3",
      "display_name": "Python 3"
    },
    "language_info": {
      "name": "python"
    }
  },
  "cells": [
    {
      "cell_type": "markdown",
      "source": [
        "# 1 Installer Java, PySpark, et Findspark :"
      ],
      "metadata": {
        "id": "ZQs_-5dZFJ_k"
      }
    },
    {
      "cell_type": "code",
      "source": [
        "# Installer Java 8\n",
        "\n",
        "!apt-get install openjdk-8-jdk-headless -qq > /dev/null\n"
      ],
      "metadata": {
        "id": "qtMUHs8CsSZ6"
      },
      "execution_count": 3,
      "outputs": []
    },
    {
      "cell_type": "code",
      "source": [
        "# Installer PySpark\n",
        "\n",
        "!pip install -q pyspark\n",
        "!pip install -q findspark\n"
      ],
      "metadata": {
        "id": "tGrxA_oxoCvb"
      },
      "execution_count": 4,
      "outputs": []
    },
    {
      "cell_type": "markdown",
      "source": [
        "# 2 Télécharger les packages nécessaires pour lire les fichiers XML et Excel"
      ],
      "metadata": {
        "id": "bi4l-7rKFm3f"
      }
    },
    {
      "cell_type": "code",
      "source": [
        "# Télécharger le package spark-xml\n",
        "!wget -P /content/ https://repo1.maven.org/maven2/com/databricks/spark-xml_2.12/0.11.0/spark-xml_2.12-0.11.0.jar\n",
        "\n",
        "# Télécharger le package spark-excel\n",
        "!wget -P /content/ https://repo1.maven.org/maven2/com/crealytics/spark-excel_2.12/0.13.5/spark-excel_2.12-0.13.5.jar\n"
      ],
      "metadata": {
        "colab": {
          "base_uri": "https://localhost:8080/"
        },
        "id": "JO8-rRoEE1wP",
        "outputId": "c24234a8-063a-4d8a-e509-feec1fedcfc7"
      },
      "execution_count": 5,
      "outputs": [
        {
          "output_type": "stream",
          "name": "stdout",
          "text": [
            "--2024-05-28 07:50:29--  https://repo1.maven.org/maven2/com/databricks/spark-xml_2.12/0.11.0/spark-xml_2.12-0.11.0.jar\n",
            "Resolving repo1.maven.org (repo1.maven.org)... 199.232.192.209, 199.232.196.209, 2a04:4e42:4c::209, ...\n",
            "Connecting to repo1.maven.org (repo1.maven.org)|199.232.192.209|:443... connected.\n",
            "HTTP request sent, awaiting response... 200 OK\n",
            "Length: 158494 (155K) [application/java-archive]\n",
            "Saving to: ‘/content/spark-xml_2.12-0.11.0.jar’\n",
            "\n",
            "\r          spark-xml   0%[                    ]       0  --.-KB/s               \rspark-xml_2.12-0.11 100%[===================>] 154.78K  --.-KB/s    in 0.03s   \n",
            "\n",
            "2024-05-28 07:50:29 (4.47 MB/s) - ‘/content/spark-xml_2.12-0.11.0.jar’ saved [158494/158494]\n",
            "\n",
            "--2024-05-28 07:50:29--  https://repo1.maven.org/maven2/com/crealytics/spark-excel_2.12/0.13.5/spark-excel_2.12-0.13.5.jar\n",
            "Resolving repo1.maven.org (repo1.maven.org)... 199.232.192.209, 199.232.196.209, 2a04:4e42:4c::209, ...\n",
            "Connecting to repo1.maven.org (repo1.maven.org)|199.232.192.209|:443... connected.\n",
            "HTTP request sent, awaiting response... 200 OK\n",
            "Length: 6131669 (5.8M) [application/java-archive]\n",
            "Saving to: ‘/content/spark-excel_2.12-0.13.5.jar’\n",
            "\n",
            "spark-excel_2.12-0. 100%[===================>]   5.85M  --.-KB/s    in 0.09s   \n",
            "\n",
            "2024-05-28 07:50:30 (63.0 MB/s) - ‘/content/spark-excel_2.12-0.13.5.jar’ saved [6131669/6131669]\n",
            "\n"
          ]
        }
      ]
    },
    {
      "cell_type": "markdown",
      "source": [
        "# 3 .Configurer les variables d'environnement et initialiser Spark :\n"
      ],
      "metadata": {
        "id": "GLOvwgjnqyIL"
      }
    },
    {
      "cell_type": "code",
      "source": [
        "import os\n",
        "import findspark\n",
        "\n",
        "# Définir les variables d'environnement\n",
        "os.environ[\"JAVA_HOME\"] = \"/usr/lib/jvm/java-8-openjdk-amd64\"\n",
        "os.environ[\"SPARK_HOME\"] = \"/usr/local/lib/python3.10/dist-packages/pyspark\"\n",
        "\n",
        "# Initialiser findspark\n",
        "findspark.init()\n"
      ],
      "metadata": {
        "id": "m2K-Ve9dHWpC"
      },
      "execution_count": 6,
      "outputs": []
    },
    {
      "cell_type": "markdown",
      "source": [
        "# 4. Initialiser une session Spark en ajoutant les packages nécessaires :"
      ],
      "metadata": {
        "id": "31nFJ-Z8Hb-N"
      }
    },
    {
      "cell_type": "code",
      "source": [
        "from pyspark.sql import SparkSession\n",
        "\n",
        "# Créer une session Spark en ajoutant les packages spark-xml et spark-excel\n",
        "spark = SparkSession.builder \\\n",
        "    .appName(\"OlympicData\") \\\n",
        "    .getOrCreate()\n"
      ],
      "metadata": {
        "id": "8XDttpbmHfnM"
      },
      "execution_count": 7,
      "outputs": []
    },
    {
      "cell_type": "markdown",
      "source": [
        "# 5. Charger et lire les différents fichiers :"
      ],
      "metadata": {
        "id": "qRxs7tzyHlfS"
      }
    },
    {
      "cell_type": "markdown",
      "source": [
        "\n",
        "\n",
        "1.   Lire le fichier JSON\n",
        "\n",
        "\n",
        "\n",
        "\n"
      ],
      "metadata": {
        "id": "BsqqlledH2mL"
      }
    },
    {
      "cell_type": "code",
      "source": [
        "df_athletes = spark.read.json(\"/content/sample_data/JO/olympic_athletes.json\")\n",
        "df_athletes.show()\n"
      ],
      "metadata": {
        "colab": {
          "base_uri": "https://localhost:8080/"
        },
        "id": "UAIxzYe3HpTz",
        "outputId": "84bddae6-d631-43a7-a758-5e20a630bf8e"
      },
      "execution_count": 8,
      "outputs": [
        {
          "output_type": "stream",
          "name": "stdout",
          "text": [
            "+--------------------+--------------------+--------------------+------------------+--------------------+----------------+--------------------+\n",
            "|   athlete_full_name|      athlete_medals|         athlete_url|athlete_year_birth|                 bio|      first_game|games_participations|\n",
            "+--------------------+--------------------+--------------------+------------------+--------------------+----------------+--------------------+\n",
            "|Cooper WOODS-TOPA...|                NULL|https://olympics....|            2000.0|                NULL|    Beijing 2022|                   1|\n",
            "|      Felix ELOFSSON|                NULL|https://olympics....|            1995.0|                NULL|PyeongChang 2018|                   2|\n",
            "|       Dylan WALCZYK|                NULL|https://olympics....|            1993.0|                NULL|    Beijing 2022|                   1|\n",
            "|       Olli PENTTALA|                NULL|https://olympics....|            1995.0|                NULL|    Beijing 2022|                   1|\n",
            "|    Dmitriy REIKHERD|                NULL|https://olympics....|            1989.0|                NULL|    Beijing 2022|                   1|\n",
            "|         Matt GRAHAM|    \\n\\n\\n1\\n\\nS\\n\\n|https://olympics....|            1994.0|                NULL|      Sochi 2014|                   3|\n",
            "|     Ikuma HORISHIMA|    \\n\\n\\n1\\n\\nB\\n\\n|https://olympics....|            1997.0|                NULL|PyeongChang 2018|                   2|\n",
            "|         Daichi HARA|    \\n\\n\\n1\\n\\nB\\n\\n|https://olympics....|            1997.0|                NULL|PyeongChang 2018|                   2|\n",
            "|      Laurent DUMAIS|                NULL|https://olympics....|            1996.0|                NULL|    Beijing 2022|                   1|\n",
            "|      James MATHESON|                NULL|https://olympics....|            1995.0|                NULL|PyeongChang 2018|                   2|\n",
            "|      Pavel KOLMAKOV|                NULL|https://olympics....|            1996.0|                NULL|      Sochi 2014|                   3|\n",
            "|     Kosuke SUGIMOTO|                NULL|https://olympics....|            1994.0|                NULL|    Beijing 2022|                   1|\n",
            "|      Brodie SUMMERS|                NULL|https://olympics....|            1993.0|                NULL|      Sochi 2014|                   3|\n",
            "|      Severi VIERELA|                NULL|https://olympics....|            2001.0|                NULL|    Beijing 2022|                   1|\n",
            "|          Marco TADE|                NULL|https://olympics....|            1995.0|                NULL|    Beijing 2022|                   1|\n",
            "|     William FENELEY|                NULL|https://olympics....|            1999.0|                NULL|    Beijing 2022|                   1|\n",
            "|    Mikael KINGSBURY|\\n\\n\\n1\\n\\nG\\n\\n\\...|https://olympics....|            1992.0|\\n\\n\\nIn the peri...|      Sochi 2014|                   3|\n",
            "|          So MATSUDA|                NULL|https://olympics....|            1999.0|                NULL|    Beijing 2022|                   1|\n",
            "|     Walter WALLBERG|    \\n\\n\\n1\\n\\nG\\n\\n|https://olympics....|            2000.0|                NULL|PyeongChang 2018|                   2|\n",
            "|      Bradley WILSON|                NULL|https://olympics....|            1992.0|                NULL|      Sochi 2014|                   3|\n",
            "+--------------------+--------------------+--------------------+------------------+--------------------+----------------+--------------------+\n",
            "only showing top 20 rows\n",
            "\n"
          ]
        }
      ]
    },
    {
      "cell_type": "markdown",
      "source": [
        "2. Lire le fichier XML"
      ],
      "metadata": {
        "id": "ErP-KUOrIVia"
      }
    },
    {
      "cell_type": "code",
      "source": [
        "import xml.etree.ElementTree as ET\n",
        "import findspark\n",
        "findspark.init()\n",
        "\n",
        "xml_file_path = \"/content/sample_data/JO/olympic_hosts.xml\"\n",
        "def parse_xml(file_path):\n",
        "    tree = ET.parse(file_path)\n",
        "    root = tree.getroot()\n",
        "    data = []\n",
        "    for row in root.findall('row'):\n",
        "          index = row.find('index').text\n",
        "          game_slug = row.find('game_slug').text\n",
        "          game_end_date = row.find('game_end_date').text\n",
        "          game_start_date = row.find('game_start_date').text\n",
        "          game_location = row.find('game_location').text\n",
        "          game_name = row.find('game_name').text\n",
        "          game_season = row.find('game_season').text\n",
        "          game_year = row.find('game_year').text\n",
        "          data.append((index, game_slug, game_end_date, game_start_date, game_location, game_name, game_season, game_year))\n",
        "    return data\n",
        "# Lire et parser le fichier XML\n",
        "parsed_data = parse_xml(xml_file_path)\n",
        "# Créer un DataFrame Spark à partir des données parsées\n",
        "columns = [\"Index\", \"Game_Slug\", \"Game_End_Date\", \"Game_Start_Date\", \"Game_Location\", \"Game_Name\", \"Game_Season\", \"Game_Year\"]\n",
        "df_hosts = spark.createDataFrame(parsed_data, columns)\n",
        "# Afficher le DataFrame\n",
        "df_hosts.show()\n"
      ],
      "metadata": {
        "id": "F5teWVZuILQ5",
        "colab": {
          "base_uri": "https://localhost:8080/"
        },
        "outputId": "70a47536-d570-4ac0-fb76-0b89164c3566"
      },
      "execution_count": 10,
      "outputs": [
        {
          "output_type": "stream",
          "name": "stdout",
          "text": [
            "+-----+-------------------+--------------------+--------------------+------------------+-------------------+-----------+---------+\n",
            "|Index|          Game_Slug|       Game_End_Date|     Game_Start_Date|     Game_Location|          Game_Name|Game_Season|Game_Year|\n",
            "+-----+-------------------+--------------------+--------------------+------------------+-------------------+-----------+---------+\n",
            "|    0|       beijing-2022|2022-02-20T12:00:00Z|2022-02-04T15:00:00Z|             China|       Beijing 2022|     Winter|     2022|\n",
            "|    1|         tokyo-2020|2021-08-08T14:00:00Z|2021-07-23T11:00:00Z|             Japan|         Tokyo 2020|     Summer|     2020|\n",
            "|    2|   pyeongchang-2018|2018-02-25T08:00:00Z|2018-02-08T23:00:00Z| Republic of Korea|   PyeongChang 2018|     Winter|     2018|\n",
            "|    3|           rio-2016|2016-08-21T21:00:00Z|2016-08-05T12:00:00Z|            Brazil|           Rio 2016|     Summer|     2016|\n",
            "|    4|         sochi-2014|2014-02-23T16:00:00Z|2014-02-07T04:00:00Z|Russian Federation|         Sochi 2014|     Winter|     2014|\n",
            "|    5|        london-2012|2012-08-12T19:00:00Z|2012-07-27T07:00:00Z|     Great Britain|        London 2012|     Summer|     2012|\n",
            "|    6|     vancouver-2010|2010-02-28T04:00:00Z|2010-02-12T16:00:00Z|            Canada|     Vancouver 2010|     Winter|     2010|\n",
            "|    7|       beijing-2008|2008-08-24T12:00:00Z|2008-08-08T00:00:00Z|             China|       Beijing 2008|     Summer|     2008|\n",
            "|    8|         turin-2006|2006-02-26T19:00:00Z|2006-02-10T07:00:00Z|             Italy|         Turin 2006|     Winter|     2006|\n",
            "|    9|        athens-2004|2004-08-29T18:00:00Z|2004-08-13T06:00:00Z|            Greece|        Athens 2004|     Summer|     2004|\n",
            "|   10|salt-lake-city-2002|2002-02-24T08:00:00Z|2002-02-08T15:00:00Z|     United States|Salt Lake City 2002|     Winter|     2002|\n",
            "|   11|        sydney-2000|2000-10-01T09:00:00Z|2000-09-15T01:00:00Z|         Australia|        Sydney 2000|     Summer|     2000|\n",
            "|   12|        nagano-1998|1998-02-22T11:00:00Z|1998-02-06T23:00:00Z|             Japan|        Nagano 1998|     Winter|     1998|\n",
            "|   13|       atlanta-1996|1996-08-05T21:00:00Z|1996-07-19T12:00:00Z|     United States|       Atlanta 1996|     Summer|     1996|\n",
            "|   14|   lillehammer-1994|1994-02-27T19:00:00Z|1994-02-12T07:00:00Z|            Norway|   Lillehammer 1994|     Winter|     1994|\n",
            "|   15|     barcelona-1992|1992-08-09T18:00:00Z|1992-07-25T06:00:00Z|             Spain|     Barcelona 1992|     Summer|     1992|\n",
            "|   16|   albertville-1992|1992-02-23T19:00:00Z|1992-02-08T07:00:00Z|            France|   Albertville 1992|     Winter|     1992|\n",
            "|   17|         seoul-1988|1988-10-02T10:00:00Z|1988-09-16T22:00:00Z| Republic of Korea|         Seoul 1988|     Summer|     1988|\n",
            "|   18|       calgary-1988|1988-02-28T03:00:00Z|1988-02-13T15:00:00Z|            Canada|       Calgary 1988|     Winter|     1988|\n",
            "|   19|   los-angeles-1984|1984-08-12T19:00:00Z|1984-07-28T15:00:00Z|     United States|   Los Angeles 1984|     Summer|     1984|\n",
            "+-----+-------------------+--------------------+--------------------+------------------+-------------------+-----------+---------+\n",
            "only showing top 20 rows\n",
            "\n"
          ]
        }
      ]
    },
    {
      "cell_type": "markdown",
      "source": [
        "3. Lire le fichier Excel\n"
      ],
      "metadata": {
        "id": "d4NVuz7CIedT"
      }
    },
    {
      "cell_type": "code",
      "source": [
        "\n",
        "!pip install pandas openpyxl\n"
      ],
      "metadata": {
        "id": "cLZgOg1gIhT4",
        "colab": {
          "base_uri": "https://localhost:8080/"
        },
        "outputId": "f3be572f-722c-4efb-8119-fe337843f45c"
      },
      "execution_count": 11,
      "outputs": [
        {
          "output_type": "stream",
          "name": "stdout",
          "text": [
            "Requirement already satisfied: pandas in /usr/local/lib/python3.10/dist-packages (2.0.3)\n",
            "Requirement already satisfied: openpyxl in /usr/local/lib/python3.10/dist-packages (3.1.2)\n",
            "Requirement already satisfied: python-dateutil>=2.8.2 in /usr/local/lib/python3.10/dist-packages (from pandas) (2.8.2)\n",
            "Requirement already satisfied: pytz>=2020.1 in /usr/local/lib/python3.10/dist-packages (from pandas) (2023.4)\n",
            "Requirement already satisfied: tzdata>=2022.1 in /usr/local/lib/python3.10/dist-packages (from pandas) (2024.1)\n",
            "Requirement already satisfied: numpy>=1.21.0 in /usr/local/lib/python3.10/dist-packages (from pandas) (1.25.2)\n",
            "Requirement already satisfied: et-xmlfile in /usr/local/lib/python3.10/dist-packages (from openpyxl) (1.1.0)\n",
            "Requirement already satisfied: six>=1.5 in /usr/local/lib/python3.10/dist-packages (from python-dateutil>=2.8.2->pandas) (1.16.0)\n"
          ]
        }
      ]
    },
    {
      "cell_type": "code",
      "source": [
        "import pandas as pd\n",
        "\n",
        "# Lire le fichier Excel\n",
        "file_path_excel = '/content/sample_data/JO/olympic_medals.xlsx'\n",
        "df = pd.read_excel(file_path_excel, sheet_name='Sheet1')  # Remplacer 'Sheet1' par le nom de la feuille si différent\n",
        "\n",
        "# Convertir en CSV\n",
        "file_path_csv = '/content/sample_data/JO/olympic_medals.csv'\n",
        "df.to_csv(file_path_csv, index=False)\n"
      ],
      "metadata": {
        "id": "bFgHgyFPktjt"
      },
      "execution_count": 12,
      "outputs": []
    },
    {
      "cell_type": "code",
      "source": [
        "# Lire le fichier CSV converti\n",
        "df_medals = spark.read.csv(file_path_csv, header=True, inferSchema=True)\n",
        "df_medals.show()\n",
        "\n"
      ],
      "metadata": {
        "colab": {
          "base_uri": "https://localhost:8080/"
        },
        "id": "3YJLQph-k75r",
        "outputId": "c235c616-919c-4ac8-c6a2-39b9e42a326b"
      },
      "execution_count": 13,
      "outputs": [
        {
          "output_type": "stream",
          "name": "stdout",
          "text": [
            "+----------+----------------+------------+--------------------+------------+----------+----------------+-----------------+--------------------+--------------------+--------------------+------------+---------------------+\n",
            "|Unnamed: 0|discipline_title|   slug_game|         event_title|event_gender|medal_type|participant_type|participant_title|         athlete_url|   athlete_full_name|        country_name|country_code|country_3_letter_code|\n",
            "+----------+----------------+------------+--------------------+------------+----------+----------------+-----------------+--------------------+--------------------+--------------------+------------+---------------------+\n",
            "|         0|         Curling|beijing-2022|       Mixed Doubles|       Mixed|      GOLD|        GameTeam|            Italy|https://olympics....|Stefania CONSTANTINI|               Italy|          IT|                  ITA|\n",
            "|         1|         Curling|beijing-2022|       Mixed Doubles|       Mixed|      GOLD|        GameTeam|            Italy|https://olympics....|        Amos MOSANER|               Italy|          IT|                  ITA|\n",
            "|         2|         Curling|beijing-2022|       Mixed Doubles|       Mixed|    SILVER|        GameTeam|           Norway|https://olympics....|    Kristin SKASLIEN|              Norway|          NO|                  NOR|\n",
            "|         3|         Curling|beijing-2022|       Mixed Doubles|       Mixed|    SILVER|        GameTeam|           Norway|https://olympics....|  Magnus NEDREGOTTEN|              Norway|          NO|                  NOR|\n",
            "|         4|         Curling|beijing-2022|       Mixed Doubles|       Mixed|    BRONZE|        GameTeam|           Sweden|https://olympics....|       Almida DE VAL|              Sweden|          SE|                  SWE|\n",
            "|         5|         Curling|beijing-2022|       Mixed Doubles|       Mixed|    BRONZE|        GameTeam|           Sweden|https://olympics....|      Oskar ERIKSSON|              Sweden|          SE|                  SWE|\n",
            "|         6|         Curling|beijing-2022|               Women|       Women|      GOLD|        GameTeam|    Great Britain|                NULL|                NULL|       Great Britain|          GB|                  GBR|\n",
            "|         7|         Curling|beijing-2022|               Women|       Women|    SILVER|        GameTeam|            Japan|                NULL|                NULL|               Japan|          JP|                  JPN|\n",
            "|         8|         Curling|beijing-2022|               Women|       Women|    BRONZE|        GameTeam|           Sweden|                NULL|                NULL|              Sweden|          SE|                  SWE|\n",
            "|         9|         Curling|beijing-2022|                 Men|         Men|      GOLD|        GameTeam|           Sweden|                NULL|                NULL|              Sweden|          SE|                  SWE|\n",
            "|        10|         Curling|beijing-2022|                 Men|         Men|    SILVER|        GameTeam|    Great Britain|                NULL|                NULL|       Great Britain|          GB|                  GBR|\n",
            "|        11|         Curling|beijing-2022|                 Men|         Men|    BRONZE|        GameTeam|           Canada|                NULL|                NULL|              Canada|          CA|                  CAN|\n",
            "|        12|Freestyle Skiing|beijing-2022|        Men's Moguls|         Men|    SILVER|         Athlete|             NULL|https://olympics....|    Mikael KINGSBURY|              Canada|          CA|                  CAN|\n",
            "|        13|Freestyle Skiing|beijing-2022|        Men's Moguls|         Men|      GOLD|         Athlete|             NULL|https://olympics....|     Walter WALLBERG|              Sweden|          SE|                  SWE|\n",
            "|        14|Freestyle Skiing|beijing-2022|        Men's Moguls|         Men|    BRONZE|         Athlete|             NULL|https://olympics....|     Ikuma HORISHIMA|               Japan|          JP|                  JPN|\n",
            "|        15|Freestyle Skiing|beijing-2022|Men's Freeski Hal...|         Men|      GOLD|         Athlete|             NULL|https://olympics....|       Nico PORTEOUS|         New Zealand|          NZ|                  NZL|\n",
            "|        16|Freestyle Skiing|beijing-2022|Men's Freeski Hal...|         Men|    SILVER|         Athlete|             NULL|https://olympics....|          David WISE|United States of ...|          US|                  USA|\n",
            "|        17|Freestyle Skiing|beijing-2022|Men's Freeski Hal...|         Men|    BRONZE|         Athlete|             NULL|https://olympics....|       Alex FERREIRA|United States of ...|          US|                  USA|\n",
            "|        18|Freestyle Skiing|beijing-2022|Men's Freeski Big...|         Men|    BRONZE|         Athlete|             NULL|https://olympics....|      Henrik HARLAUT|              Sweden|          SE|                  SWE|\n",
            "|        19|Freestyle Skiing|beijing-2022|Men's Freeski Big...|         Men|      GOLD|         Athlete|             NULL|https://olympics....|           Birk RUUD|              Norway|          NO|                  NOR|\n",
            "+----------+----------------+------------+--------------------+------------+----------+----------------+-----------------+--------------------+--------------------+--------------------+------------+---------------------+\n",
            "only showing top 20 rows\n",
            "\n"
          ]
        }
      ]
    },
    {
      "cell_type": "markdown",
      "source": [
        "4. Lire le fichier HTML"
      ],
      "metadata": {
        "id": "YzcOQ92BIwIL"
      }
    },
    {
      "cell_type": "code",
      "source": [
        "import pandas as pd\n",
        "from pyspark.sql import SparkSession\n",
        "from pyspark.sql.types import *\n",
        "\n",
        "# Lire le fichier HTML avec pandas\n",
        "html_tables = pd.read_html(\"/content/sample_data/JO/olympic_results.html\")\n",
        "\n",
        "# Supposons que les données que vous voulez sont dans la première table\n",
        "df_results_pd = html_tables[0]\n",
        "\n",
        "# Convertir les types de colonnes spécifiques pour correspondre aux attentes de Spark\n",
        "df_results_pd['rank_equal'] = df_results_pd['rank_equal'].astype('bool', errors='ignore')\n",
        "df_results_pd['rank_position'] = pd.to_numeric(df_results_pd['rank_position'], errors='coerce').fillna(0).astype('int')\n",
        "df_results_pd['Unnamed: 0'] = pd.to_numeric(df_results_pd['Unnamed: 0'], errors='coerce').fillna(0).astype('int')\n",
        "\n",
        "# Afficher les types de colonnes\n",
        "print(df_results_pd.dtypes)\n",
        "\n",
        "# Spécifier explicitement le schéma pour Spark DataFrame\n",
        "schema = StructType([\n",
        "    StructField(\"Unnamed: 0\", IntegerType(), True),\n",
        "    StructField(\"discipline_title\", StringType(), True),\n",
        "    StructField(\"event_title\", StringType(), True),\n",
        "    StructField(\"slug_game\", StringType(), True),\n",
        "    StructField(\"participant_type\", StringType(), True),\n",
        "    StructField(\"medal_type\", StringType(), True),\n",
        "    StructField(\"athletes\", StringType(), True),\n",
        "    StructField(\"rank_equal\", BooleanType(), True),\n",
        "    StructField(\"rank_position\", IntegerType(), True),\n",
        "    StructField(\"country_name\", StringType(), True),\n",
        "    StructField(\"country_code\", StringType(), True),\n",
        "    StructField(\"country_3_letter_code\", StringType(), True),\n",
        "    StructField(\"athlete_url\", StringType(), True),\n",
        "    StructField(\"athlete_full_name\", StringType(), True),\n",
        "    StructField(\"value_unit\", StringType(), True),\n",
        "    StructField(\"value_type\", StringType(), True)\n",
        "])\n"
      ],
      "metadata": {
        "colab": {
          "base_uri": "https://localhost:8080/"
        },
        "id": "j5lQmnDYI1PT",
        "outputId": "3b9911c1-06a4-4d3f-e8ab-9925eca3607b"
      },
      "execution_count": 14,
      "outputs": [
        {
          "output_type": "stream",
          "name": "stdout",
          "text": [
            "Unnamed: 0                int64\n",
            "discipline_title         object\n",
            "event_title              object\n",
            "slug_game                object\n",
            "participant_type         object\n",
            "medal_type               object\n",
            "athletes                 object\n",
            "rank_equal                 bool\n",
            "rank_position             int64\n",
            "country_name             object\n",
            "country_code             object\n",
            "country_3_letter_code    object\n",
            "athlete_url              object\n",
            "athlete_full_name        object\n",
            "value_unit               object\n",
            "value_type               object\n",
            "dtype: object\n"
          ]
        }
      ]
    },
    {
      "cell_type": "code",
      "source": [
        "# Convertir le DataFrame pandas en DataFrame Spark\n",
        "df_results = spark.createDataFrame(df_results_pd, schema=schema)\n",
        "df_results.show()\n"
      ],
      "metadata": {
        "colab": {
          "base_uri": "https://localhost:8080/"
        },
        "id": "lWvhwlqfNpDN",
        "outputId": "5e54dcb4-d90a-4e3c-c6bf-ed0b00562465"
      },
      "execution_count": 15,
      "outputs": [
        {
          "output_type": "stream",
          "name": "stdout",
          "text": [
            "+----------+----------------+-------------+------------+----------------+----------+--------------------+----------+-------------+--------------------+------------+---------------------+-----------+-----------------+----------+----------+\n",
            "|Unnamed: 0|discipline_title|  event_title|   slug_game|participant_type|medal_type|            athletes|rank_equal|rank_position|        country_name|country_code|country_3_letter_code|athlete_url|athlete_full_name|value_unit|value_type|\n",
            "+----------+----------------+-------------+------------+----------------+----------+--------------------+----------+-------------+--------------------+------------+---------------------+-----------+-----------------+----------+----------+\n",
            "|         0|         Curling|Mixed Doubles|beijing-2022|        GameTeam|      GOLD|[('Stefania CONST...|     false|            1|               Italy|          IT|                  ITA|        NaN|              NaN|       NaN|       NaN|\n",
            "|         1|         Curling|Mixed Doubles|beijing-2022|        GameTeam|    SILVER|[('Kristin SKASLI...|     false|            2|              Norway|          NO|                  NOR|        NaN|              NaN|       NaN|       NaN|\n",
            "|         2|         Curling|Mixed Doubles|beijing-2022|        GameTeam|    BRONZE|[('Almida DE VAL'...|     false|            3|              Sweden|          SE|                  SWE|        NaN|              NaN|       NaN|       NaN|\n",
            "|         3|         Curling|Mixed Doubles|beijing-2022|        GameTeam|       NaN|[('Jennifer DODDS...|     false|            4|       Great Britain|          GB|                  GBR|        NaN|              NaN|       NaN|       NaN|\n",
            "|         4|         Curling|Mixed Doubles|beijing-2022|        GameTeam|       NaN|[('Rachel HOMAN',...|     false|            5|              Canada|          CA|                  CAN|        NaN|              NaN|       NaN|       NaN|\n",
            "|         5|         Curling|Mixed Doubles|beijing-2022|        GameTeam|       NaN|[('Zuzana HAJKOVA...|     false|            6|      Czech Republic|          CZ|                  CZE|        NaN|              NaN|       NaN|       NaN|\n",
            "|         6|         Curling|Mixed Doubles|beijing-2022|        GameTeam|       NaN|[('Jenny PERRET',...|     false|            7|         Switzerland|          CH|                  SUI|        NaN|              NaN|       NaN|       NaN|\n",
            "|         7|         Curling|Mixed Doubles|beijing-2022|        GameTeam|       NaN|[('Vicky PERSINGE...|     false|            8|United States of ...|          US|                  USA|        NaN|              NaN|       NaN|       NaN|\n",
            "|         8|         Curling|Mixed Doubles|beijing-2022|        GameTeam|       NaN|[('Suyuan FAN', '...|     false|            9|People's Republic...|          CN|                  CHN|        NaN|              NaN|       NaN|       NaN|\n",
            "|         9|         Curling|Mixed Doubles|beijing-2022|        GameTeam|       NaN|[('Tahli GILL', '...|     false|           10|           Australia|          AU|                  AUS|        NaN|              NaN|       NaN|       NaN|\n",
            "|        10|         Curling|        Women|beijing-2022|        GameTeam|      GOLD|                 NaN|     false|            1|       Great Britain|          GB|                  GBR|        NaN|              NaN|       NaN|       NaN|\n",
            "|        11|         Curling|        Women|beijing-2022|        GameTeam|    SILVER|                 NaN|     false|            2|               Japan|          JP|                  JPN|        NaN|              NaN|       NaN|       NaN|\n",
            "|        12|         Curling|        Women|beijing-2022|        GameTeam|    BRONZE|                 NaN|     false|            3|              Sweden|          SE|                  SWE|        NaN|              NaN|       NaN|       NaN|\n",
            "|        13|         Curling|        Women|beijing-2022|        GameTeam|       NaN|                 NaN|     false|            4|         Switzerland|          CH|                  SUI|        NaN|              NaN|       NaN|       NaN|\n",
            "|        14|         Curling|        Women|beijing-2022|        GameTeam|       NaN|                 NaN|     false|            5|              Canada|          CA|                  CAN|        NaN|              NaN|       NaN|       NaN|\n",
            "|        15|         Curling|        Women|beijing-2022|        GameTeam|       NaN|                 NaN|     false|            6|United States of ...|          US|                  USA|        NaN|              NaN|       NaN|       NaN|\n",
            "|        16|         Curling|        Women|beijing-2022|        GameTeam|       NaN|                 NaN|     false|            7|People's Republic...|          CN|                  CHN|        NaN|              NaN|       NaN|       NaN|\n",
            "|        17|         Curling|        Women|beijing-2022|        GameTeam|       NaN|                 NaN|     false|            8|   Republic of Korea|          KR|                  KOR|        NaN|              NaN|       NaN|       NaN|\n",
            "|        18|         Curling|        Women|beijing-2022|        GameTeam|       NaN|                 NaN|     false|            9|             Denmark|          DK|                  DEN|        NaN|              NaN|       NaN|       NaN|\n",
            "|        19|         Curling|        Women|beijing-2022|        GameTeam|       NaN|                 NaN|     false|           10|                 ROC|         ROC|                  ROC|        NaN|              NaN|       NaN|       NaN|\n",
            "+----------+----------------+-------------+------------+----------------+----------+--------------------+----------+-------------+--------------------+------------+---------------------+-----------+-----------------+----------+----------+\n",
            "only showing top 20 rows\n",
            "\n"
          ]
        }
      ]
    },
    {
      "cell_type": "markdown",
      "source": [
        "# Gestion des valeurs manquantes\n"
      ],
      "metadata": {
        "id": "neQUuxknfeiJ"
      }
    },
    {
      "cell_type": "code",
      "source": [
        "df_athletes = df_athletes.dropna()\n",
        "df_hosts = df_hosts.dropna()\n",
        "df_results = df_results.dropna()\n",
        "df_medals=df_medals.dropna()"
      ],
      "metadata": {
        "id": "sBLArBpkfIKu"
      },
      "execution_count": 16,
      "outputs": []
    },
    {
      "cell_type": "code",
      "source": [
        "df_hosts.show()"
      ],
      "metadata": {
        "colab": {
          "base_uri": "https://localhost:8080/"
        },
        "id": "Rq18KNcofISb",
        "outputId": "4200d331-f11a-4ee8-df96-fe5a83725ca8"
      },
      "execution_count": 17,
      "outputs": [
        {
          "output_type": "stream",
          "name": "stdout",
          "text": [
            "+-----+-------------------+--------------------+--------------------+------------------+-------------------+-----------+---------+\n",
            "|Index|          Game_Slug|       Game_End_Date|     Game_Start_Date|     Game_Location|          Game_Name|Game_Season|Game_Year|\n",
            "+-----+-------------------+--------------------+--------------------+------------------+-------------------+-----------+---------+\n",
            "|    0|       beijing-2022|2022-02-20T12:00:00Z|2022-02-04T15:00:00Z|             China|       Beijing 2022|     Winter|     2022|\n",
            "|    1|         tokyo-2020|2021-08-08T14:00:00Z|2021-07-23T11:00:00Z|             Japan|         Tokyo 2020|     Summer|     2020|\n",
            "|    2|   pyeongchang-2018|2018-02-25T08:00:00Z|2018-02-08T23:00:00Z| Republic of Korea|   PyeongChang 2018|     Winter|     2018|\n",
            "|    3|           rio-2016|2016-08-21T21:00:00Z|2016-08-05T12:00:00Z|            Brazil|           Rio 2016|     Summer|     2016|\n",
            "|    4|         sochi-2014|2014-02-23T16:00:00Z|2014-02-07T04:00:00Z|Russian Federation|         Sochi 2014|     Winter|     2014|\n",
            "|    5|        london-2012|2012-08-12T19:00:00Z|2012-07-27T07:00:00Z|     Great Britain|        London 2012|     Summer|     2012|\n",
            "|    6|     vancouver-2010|2010-02-28T04:00:00Z|2010-02-12T16:00:00Z|            Canada|     Vancouver 2010|     Winter|     2010|\n",
            "|    7|       beijing-2008|2008-08-24T12:00:00Z|2008-08-08T00:00:00Z|             China|       Beijing 2008|     Summer|     2008|\n",
            "|    8|         turin-2006|2006-02-26T19:00:00Z|2006-02-10T07:00:00Z|             Italy|         Turin 2006|     Winter|     2006|\n",
            "|    9|        athens-2004|2004-08-29T18:00:00Z|2004-08-13T06:00:00Z|            Greece|        Athens 2004|     Summer|     2004|\n",
            "|   10|salt-lake-city-2002|2002-02-24T08:00:00Z|2002-02-08T15:00:00Z|     United States|Salt Lake City 2002|     Winter|     2002|\n",
            "|   11|        sydney-2000|2000-10-01T09:00:00Z|2000-09-15T01:00:00Z|         Australia|        Sydney 2000|     Summer|     2000|\n",
            "|   12|        nagano-1998|1998-02-22T11:00:00Z|1998-02-06T23:00:00Z|             Japan|        Nagano 1998|     Winter|     1998|\n",
            "|   13|       atlanta-1996|1996-08-05T21:00:00Z|1996-07-19T12:00:00Z|     United States|       Atlanta 1996|     Summer|     1996|\n",
            "|   14|   lillehammer-1994|1994-02-27T19:00:00Z|1994-02-12T07:00:00Z|            Norway|   Lillehammer 1994|     Winter|     1994|\n",
            "|   15|     barcelona-1992|1992-08-09T18:00:00Z|1992-07-25T06:00:00Z|             Spain|     Barcelona 1992|     Summer|     1992|\n",
            "|   16|   albertville-1992|1992-02-23T19:00:00Z|1992-02-08T07:00:00Z|            France|   Albertville 1992|     Winter|     1992|\n",
            "|   17|         seoul-1988|1988-10-02T10:00:00Z|1988-09-16T22:00:00Z| Republic of Korea|         Seoul 1988|     Summer|     1988|\n",
            "|   18|       calgary-1988|1988-02-28T03:00:00Z|1988-02-13T15:00:00Z|            Canada|       Calgary 1988|     Winter|     1988|\n",
            "|   19|   los-angeles-1984|1984-08-12T19:00:00Z|1984-07-28T15:00:00Z|     United States|   Los Angeles 1984|     Summer|     1984|\n",
            "+-----+-------------------+--------------------+--------------------+------------------+-------------------+-----------+---------+\n",
            "only showing top 20 rows\n",
            "\n"
          ]
        }
      ]
    },
    {
      "cell_type": "markdown",
      "source": [
        "## Exploration et visualisation des données"
      ],
      "metadata": {
        "id": "dyGtbl4KqrEZ"
      }
    },
    {
      "cell_type": "markdown",
      "source": [
        "1 France a organisé 6 JO : 3 d’hiver et 3 d’été (en comptant celui de 2024) :"
      ],
      "metadata": {
        "id": "0PKJNZR8rHuR"
      }
    },
    {
      "cell_type": "code",
      "source": [
        "from pyspark.sql.functions import col\n",
        "\n",
        "# Filtrer les données pour la France\n",
        "df_france_hosts = df_hosts.filter(col(\"game_location\") == \"France\")\n",
        "\n",
        "# Compter le nombre de jeux d'été et d'hiver\n",
        "df_france_hosts.groupBy(\"game_season\").count().show()\n"
      ],
      "metadata": {
        "colab": {
          "base_uri": "https://localhost:8080/"
        },
        "id": "6Qc6XRNLrFWG",
        "outputId": "f4949afe-26a1-4ac1-fa5c-d5e7592bf9b2"
      },
      "execution_count": 18,
      "outputs": [
        {
          "output_type": "stream",
          "name": "stdout",
          "text": [
            "+-----------+-----+\n",
            "|game_season|count|\n",
            "+-----------+-----+\n",
            "|     Winter|    3|\n",
            "|     Summer|    2|\n",
            "+-----------+-----+\n",
            "\n"
          ]
        }
      ]
    },
    {
      "cell_type": "markdown",
      "source": [
        "2. France est le 2è pays qui a organisé le plus de JO après les USA (8 JO) :\n"
      ],
      "metadata": {
        "id": "_r9qr3KoraSB"
      }
    },
    {
      "cell_type": "code",
      "source": [
        "# Compter le nombre de jeux organisés par chaque pays\n",
        "df_country_counts = df_hosts.groupBy(\"game_location\").count().orderBy(col(\"count\").desc())\n",
        "df_country_counts.show()\n"
      ],
      "metadata": {
        "colab": {
          "base_uri": "https://localhost:8080/"
        },
        "id": "As2ncl6are2P",
        "outputId": "04b54de6-e1b9-4b31-cf2a-c70c338550fa"
      },
      "execution_count": 19,
      "outputs": [
        {
          "output_type": "stream",
          "name": "stdout",
          "text": [
            "+--------------------+-----+\n",
            "|       game_location|count|\n",
            "+--------------------+-----+\n",
            "|       United States|    8|\n",
            "|              France|    5|\n",
            "|               Japan|    4|\n",
            "|       Great Britain|    3|\n",
            "|               Italy|    3|\n",
            "|              Canada|    3|\n",
            "|   Republic of Korea|    2|\n",
            "|              Greece|    2|\n",
            "|               China|    2|\n",
            "|              Norway|    2|\n",
            "|             Austria|    2|\n",
            "|             Germany|    2|\n",
            "|         Switzerland|    2|\n",
            "|               Spain|    1|\n",
            "|  Russian Federation|    1|\n",
            "|Federal Republic ...|    1|\n",
            "|          Yugoslavia|    1|\n",
            "|                USSR|    1|\n",
            "|              Brazil|    1|\n",
            "|           Australia|    1|\n",
            "+--------------------+-----+\n",
            "only showing top 20 rows\n",
            "\n"
          ]
        }
      ]
    },
    {
      "cell_type": "markdown",
      "source": [
        "3.Les JO d’hiver sont nés à Chamonix en 1924 :"
      ],
      "metadata": {
        "id": "pQbXPdSarque"
      }
    },
    {
      "cell_type": "code",
      "source": [
        "# Filtrer les données pour les jeux d'hiver en 1924\n",
        "df_winter_1924 = df_hosts.filter((col(\"game_year\") == 1924) & (col(\"game_season\") == \"Winter\"))\n",
        "df_winter_1924.show()\n"
      ],
      "metadata": {
        "colab": {
          "base_uri": "https://localhost:8080/"
        },
        "id": "kmxsIBDFrva7",
        "outputId": "0b801ebb-7bb3-425c-c061-8aca949acb06"
      },
      "execution_count": 20,
      "outputs": [
        {
          "output_type": "stream",
          "name": "stdout",
          "text": [
            "+-----+-------------+--------------------+--------------------+-------------+-------------+-----------+---------+\n",
            "|Index|    Game_Slug|       Game_End_Date|     Game_Start_Date|Game_Location|    Game_Name|Game_Season|Game_Year|\n",
            "+-----+-------------+--------------------+--------------------+-------------+-------------+-----------+---------+\n",
            "|   46|chamonix-1924|1924-02-05T20:00:00Z|1924-01-25T08:00:00Z|       France|Chamonix 1924|     Winter|     1924|\n",
            "+-----+-------------+--------------------+--------------------+-------------+-------------+-----------+---------+\n",
            "\n"
          ]
        }
      ]
    },
    {
      "cell_type": "markdown",
      "source": [
        "4.JO de Paris, en 1900 : les femmes peuvent participer aux JO :\n"
      ],
      "metadata": {
        "id": "aMBkV7Lkr3XR"
      }
    },
    {
      "cell_type": "code",
      "source": [
        "# Filtrer les données pour les jeux de Paris 1900\n",
        "# df_paris_1900 = df_hosts.filter((col(\"game_year\") == 1900) & (col(\"game_location\") == \"France\"))\n",
        "\n",
        "# # Filtrer les données des athlètes pour Paris 1900 et vérifier la participation des femmes\n",
        "# df_paris_1900_athletes = df_athletes.filter((col(\"game_year\") == 1900) & (col(\"first_game\") == \"Paris 1900\"))\n",
        "\n",
        "# df_paris_1900_athletes.show()\n",
        "df_paris_1900_results = df_results.filter((col(\"slug_game\") == \"paris-1900\"))\n",
        "\n",
        "\n",
        "df_paris_1900_women = df_paris_1900_results.filter(col(\"event_title\") == \"Women\")\n",
        "# Afficher le DataFrame pour vérifier\n",
        "df_paris_1900_women.show(truncate=False)\n",
        "\n",
        "# Compter le nombre de participantes féminines\n",
        "count_women = df_paris_1900_women.count()\n",
        "print(f\"Number of female participants in Paris 1900: {count_women}\")"
      ],
      "metadata": {
        "colab": {
          "base_uri": "https://localhost:8080/"
        },
        "id": "2PFAcilkr3of",
        "outputId": "a4d982d5-f77a-49b9-9426-b21f7e5dfe4f"
      },
      "execution_count": 21,
      "outputs": [
        {
          "output_type": "stream",
          "name": "stdout",
          "text": [
            "+----------+----------------+-----------+---------+----------------+----------+--------+----------+-------------+------------+------------+---------------------+-----------+-----------------+----------+----------+\n",
            "|Unnamed: 0|discipline_title|event_title|slug_game|participant_type|medal_type|athletes|rank_equal|rank_position|country_name|country_code|country_3_letter_code|athlete_url|athlete_full_name|value_unit|value_type|\n",
            "+----------+----------------+-----------+---------+----------------+----------+--------+----------+-------------+------------+------------+---------------------+-----------+-----------------+----------+----------+\n",
            "+----------+----------------+-----------+---------+----------------+----------+--------+----------+-------------+------------+------------+---------------------+-----------+-----------------+----------+----------+\n",
            "\n",
            "Number of female participants in Paris 1900: 0\n"
          ]
        }
      ]
    },
    {
      "cell_type": "markdown",
      "source": [
        "\n",
        "5.   Seuls 4 athlètes ont remporté des médailles à la fois aux JO d’hiver\n",
        "et d’été. Une seule d’entre eux, Christa Ludinger-Rothenburger, a remporté des médailles au cours de la même année ?"
      ],
      "metadata": {
        "id": "rLWFgs-IhiN5"
      }
    },
    {
      "cell_type": "code",
      "source": [
        "from pyspark.sql.functions import col\n",
        "\n",
        "df_joined = df_results.join(df_hosts, df_results.slug_game == df_hosts.Game_Slug)\n",
        "\n",
        "df_joined=df_joined.select(\"athlete_full_name\",\"game_season\",\"game_year\",\"medal_type\")\n",
        "# df_joined.show()\n",
        "\n",
        "# # Filtrer les athlètes ayant remporté des médailles aux JO d'hiver\n",
        "df_winter_medals = df_joined.filter(col(\"game_season\") == \"Winter\").select(\"athlete_full_name\").distinct()\n",
        "\n",
        "# # Filtrer les athlètes ayant remporté des médailles aux JO d'été\n",
        "df_summer_medals = df_joined.filter(col(\"game_season\") == \"Summer\").select(\"athlete_full_name\").distinct()\n",
        "\n",
        " # Trouver les athlètes ayant remporté des médailles aux deux saisons\n",
        "df_both_medals = df_winter_medals.intersect(df_summer_medals)\n",
        "df_both_medals.show()\n",
        "# # Afficher les athlètes ayant remporté des médailles aux deux saisons\n",
        "print(\"Athletes who won medals in both Winter and Summer Olympics:\")\n",
        "df_both_medals.show()\n",
        "\n",
        "# # Filtrer les résultats pour Christa Ludinger-Rothenburger\n",
        "df_christa = df_joined.filter(col(\"athlete_full_name\") == \"Christa Ludinger-Rothenburger\")\n",
        "\n",
        "# # Afficher les résultats pour Christa Ludinger-Rothenburger\n",
        "print(\"Results for Christa Ludinger-Rothenburger:\")\n",
        "df_christa.show()\n",
        "\n",
        "# # Vérifier si elle a remporté des médailles dans la même année\n",
        "df_christa_grouped = df_christa.groupBy(\"game_year\").count()\n",
        "print(\"Number of medals won by Christa Ludinger-Rothenburger in each year:\")\n",
        "df_christa_grouped.show()"
      ],
      "metadata": {
        "colab": {
          "base_uri": "https://localhost:8080/"
        },
        "id": "KkOem6nFokjJ",
        "outputId": "c611e1af-028a-47a4-a7bf-a5c77a50c005"
      },
      "execution_count": 32,
      "outputs": [
        {
          "output_type": "stream",
          "name": "stdout",
          "text": [
            "+--------------------+\n",
            "|   athlete_full_name|\n",
            "+--------------------+\n",
            "|       Stig LINDBERG|\n",
            "|         Ake NILSSON|\n",
            "|      Leila GYENESEI|\n",
            "|              Yi ZHU|\n",
            "|Timo Juhani GRONLUND|\n",
            "| Laurine VAN RIESSEN|\n",
            "|        David MERCER|\n",
            "|       Jan SZYMANSKI|\n",
            "|       Markus KELLER|\n",
            "|       Luis GONZALEZ|\n",
            "|         Johan STÃA|\n",
            "|     Christine WITTY|\n",
            "|             Jun DAI|\n",
            "|   Arthur MANNSBARTH|\n",
            "|        Hans MÃLLER|\n",
            "|Christa LUDING-RO...|\n",
            "|   Mikhail SIAMIONAU|\n",
            "|              Wei LI|\n",
            "|       Josef NEMECKY|\n",
            "|           Xin ZHANG|\n",
            "+--------------------+\n",
            "only showing top 20 rows\n",
            "\n",
            "Athletes who won medals in both Winter and Summer Olympics:\n",
            "+--------------------+\n",
            "|   athlete_full_name|\n",
            "+--------------------+\n",
            "|       Stig LINDBERG|\n",
            "|         Ake NILSSON|\n",
            "|      Leila GYENESEI|\n",
            "|              Yi ZHU|\n",
            "|Timo Juhani GRONLUND|\n",
            "| Laurine VAN RIESSEN|\n",
            "|        David MERCER|\n",
            "|       Jan SZYMANSKI|\n",
            "|       Markus KELLER|\n",
            "|       Luis GONZALEZ|\n",
            "|         Johan STÃA|\n",
            "|     Christine WITTY|\n",
            "|             Jun DAI|\n",
            "|   Arthur MANNSBARTH|\n",
            "|        Hans MÃLLER|\n",
            "|Christa LUDING-RO...|\n",
            "|   Mikhail SIAMIONAU|\n",
            "|              Wei LI|\n",
            "|       Josef NEMECKY|\n",
            "|           Xin ZHANG|\n",
            "+--------------------+\n",
            "only showing top 20 rows\n",
            "\n",
            "Results for Christa Ludinger-Rothenburger:\n",
            "+-----------------+-----------+---------+----------+\n",
            "|athlete_full_name|game_season|game_year|medal_type|\n",
            "+-----------------+-----------+---------+----------+\n",
            "+-----------------+-----------+---------+----------+\n",
            "\n",
            "Number of medals won by Christa Ludinger-Rothenburger in each year:\n",
            "+---------+-----+\n",
            "|game_year|count|\n",
            "+---------+-----+\n",
            "+---------+-----+\n",
            "\n"
          ]
        }
      ]
    },
    {
      "cell_type": "markdown",
      "source": [
        "\n",
        "6. De 1924 à 1992, les JO d’hiver et d’été avaient lieu au cours de la même année. Désormais, ils sont organisés selon des cycles distincts avec une alternance de 2 ans ?"
      ],
      "metadata": {
        "id": "G-7C6TomhrlD"
      }
    },
    {
      "cell_type": "code",
      "source": [
        "\n",
        "#Filtrer les données pour les années 1924 à 1992\n",
        "\n",
        "df_1924_1992 = df_hosts.filter((col(\"game_year\") >= 1924) & (col(\"game_year\") <= 1992))\n",
        "df_1924_1992.show()\n",
        "df_seasons_per_year = df_1924_1992.groupBy(\"game_year\",).agg({\"game_season\": \"count\"})\n",
        "df_seasons_per_year.show()\n",
        "\n",
        "\n",
        " #Vérifier si les Jeux d'hiver et d'été ont eu lieu la même année\n",
        "df_same_year = df_seasons_per_year.filter(col(\"count(game_season)\") == 2)\n",
        "\n",
        "# Analyser le changement de cycle après 1992\n",
        "df_after_1992 = df_hosts.filter(col(\"game_year\") > 1992)\n",
        "df_seasons_after_1992 = df_after_1992.groupBy(\"game_year\", \"game_season\").count()\n",
        "df_seasons_after_1992.show()"
      ],
      "metadata": {
        "id": "kjsZFFTYolg8",
        "colab": {
          "base_uri": "https://localhost:8080/"
        },
        "outputId": "7d2f5a73-fad6-487d-bd5f-07ef9557c4b2"
      },
      "execution_count": 41,
      "outputs": [
        {
          "output_type": "stream",
          "name": "stdout",
          "text": [
            "+-----+--------------------+-------------+---------------+--------------------+--------------------+-----------+---------+\n",
            "|index|           Game_Slug|game_end_date|game_start_date|       Game_Location|           Game_Name|Game_Season|game_year|\n",
            "+-----+--------------------+-------------+---------------+--------------------+--------------------+-----------+---------+\n",
            "|   15|      barcelona-1992|   1992-08-09|     1992-07-25|               Spain|      Barcelona 1992|     Summer|     1992|\n",
            "|   16|    albertville-1992|   1992-02-23|     1992-02-08|              France|    Albertville 1992|     Winter|     1992|\n",
            "|   17|          seoul-1988|   1988-10-02|     1988-09-16|   Republic of Korea|          Seoul 1988|     Summer|     1988|\n",
            "|   18|        calgary-1988|   1988-02-28|     1988-02-13|              Canada|        Calgary 1988|     Winter|     1988|\n",
            "|   19|    los-angeles-1984|   1984-08-12|     1984-07-28|       United States|    Los Angeles 1984|     Summer|     1984|\n",
            "|   20|       sarajevo-1984|   1984-02-19|     1984-02-08|          Yugoslavia|       Sarajevo 1984|     Winter|     1984|\n",
            "|   21|         moscow-1980|   1980-08-03|     1980-07-19|                USSR|         Moscow 1980|     Summer|     1980|\n",
            "|   22|    lake-placid-1980|   1980-02-24|     1980-02-13|       United States|    Lake Placid 1980|     Winter|     1980|\n",
            "|   23|       montreal-1976|   1976-07-31|     1976-07-17|              Canada|       Montreal 1976|     Summer|     1976|\n",
            "|   24|      innsbruck-1976|   1976-02-15|     1976-02-04|             Austria|      Innsbruck 1976|     Winter|     1976|\n",
            "|   25|         munich-1972|   1972-09-11|     1972-08-26|Federal Republic ...|         Munich 1972|     Summer|     1972|\n",
            "|   26|        sapporo-1972|   1972-02-13|     1972-02-02|               Japan|        Sapporo 1972|     Winter|     1972|\n",
            "|   27|    mexico-city-1968|   1968-10-28|     1968-10-12|              Mexico|    Mexico City 1968|     Summer|     1968|\n",
            "|   28|       grenoble-1968|   1968-02-18|     1968-02-06|              France|       Grenoble 1968|     Winter|     1968|\n",
            "|   29|          tokyo-1964|   1964-10-24|     1964-10-09|               Japan|          Tokyo 1964|     Summer|     1964|\n",
            "|   30|      innsbruck-1964|   1964-02-09|     1964-01-29|             Austria|      Innsbruck 1964|     Winter|     1964|\n",
            "|   31|           rome-1960|   1960-09-11|     1960-08-25|               Italy|           Rome 1960|     Summer|     1960|\n",
            "|   32|   squaw-valley-1960|   1960-02-28|     1960-02-18|       United States|   Squaw Valley 1960|     Winter|     1960|\n",
            "|   33|      melbourne-1956|   1956-12-08|     1956-11-21|   Australia, Sweden|      Melbourne 1956|     Summer|     1956|\n",
            "|   34|cortina-d-ampezzo...|   1956-02-05|     1956-01-26|               Italy|Cortina d'Ampezzo...|     Winter|     1956|\n",
            "+-----+--------------------+-------------+---------------+--------------------+--------------------+-----------+---------+\n",
            "only showing top 20 rows\n",
            "\n",
            "+---------+------------------+\n",
            "|game_year|count(game_season)|\n",
            "+---------+------------------+\n",
            "|     1988|                 2|\n",
            "|     1980|                 2|\n",
            "|     1972|                 2|\n",
            "|     1992|                 2|\n",
            "|     1984|                 2|\n",
            "|     1976|                 2|\n",
            "|     1924|                 2|\n",
            "|     1952|                 2|\n",
            "|     1956|                 2|\n",
            "|     1968|                 2|\n",
            "|     1932|                 2|\n",
            "|     1960|                 2|\n",
            "|     1936|                 2|\n",
            "|     1964|                 2|\n",
            "|     1948|                 2|\n",
            "|     1928|                 2|\n",
            "+---------+------------------+\n",
            "\n",
            "+---------+-----------+-----+\n",
            "|game_year|game_season|count|\n",
            "+---------+-----------+-----+\n",
            "|     2002|     Winter|    1|\n",
            "|     2020|     Summer|    1|\n",
            "|     2004|     Summer|    1|\n",
            "|     2022|     Winter|    1|\n",
            "|     2000|     Summer|    1|\n",
            "|     2010|     Winter|    1|\n",
            "|     2016|     Summer|    1|\n",
            "|     1996|     Summer|    1|\n",
            "|     2008|     Summer|    1|\n",
            "|     2006|     Winter|    1|\n",
            "|     1994|     Winter|    1|\n",
            "|     2012|     Summer|    1|\n",
            "|     1998|     Winter|    1|\n",
            "|     2018|     Winter|    1|\n",
            "|     2014|     Winter|    1|\n",
            "+---------+-----------+-----+\n",
            "\n"
          ]
        }
      ]
    },
    {
      "cell_type": "markdown",
      "source": [
        "\n",
        "\n",
        "\n",
        "7. Tarzan lui-même a participé aux JO. En effet, Johnny Weissmuller, ancien athlète devenu acteur et ayant interprété 12 films de Tarzan, a remporté 5 médailles d’or en natation dans les années 1920 ?\n",
        "\n"
      ],
      "metadata": {
        "id": "rDqRlQ66h4il"
      }
    },
    {
      "cell_type": "code",
      "source": [
        "#pour verifier cette affirmation ,nous allons concentrer sur les points suivants\n",
        "# Vérifier si Johnny Weissmuller a participé aux Jeux Olympiques.\n",
        "# Vérifier s'il a remporté 5 médailles d'or en natation dans les années 1920.\n",
        "# Filtrer les résultats pour Johnny Weissmuller\n",
        "df_johnny = df_results.filter(col(\"athlete_full_name\") == \"Johnny Weissmuller\")\n",
        "\n",
        "# Afficher les résultats pour Johnny Weissmuller\n",
        "df_johnny.show(truncate=False)"
      ],
      "metadata": {
        "id": "twINlmnQomcQ",
        "colab": {
          "base_uri": "https://localhost:8080/"
        },
        "outputId": "8b027c20-66c2-4213-b983-892ecde577a7"
      },
      "execution_count": 42,
      "outputs": [
        {
          "output_type": "stream",
          "name": "stdout",
          "text": [
            "+----------+----------------+-----------+---------+----------------+----------+--------+----------+-------------+------------+------------+---------------------+-----------+-----------------+----------+----------+\n",
            "|Unnamed: 0|discipline_title|event_title|slug_game|participant_type|medal_type|athletes|rank_equal|rank_position|country_name|country_code|country_3_letter_code|athlete_url|athlete_full_name|value_unit|value_type|\n",
            "+----------+----------------+-----------+---------+----------------+----------+--------+----------+-------------+------------+------------+---------------------+-----------+-----------------+----------+----------+\n",
            "+----------+----------------+-----------+---------+----------------+----------+--------+----------+-------------+------------+------------+---------------------+-----------+-----------------+----------+----------+\n",
            "\n"
          ]
        }
      ]
    },
    {
      "cell_type": "markdown",
      "source": [
        "\n",
        "8.  Les JO de Londres de 2012 ont été les 1ers JO durant lesquels tous les pays participants ont envoyé des athlètes de sexe féminin ?\n",
        "\n"
      ],
      "metadata": {
        "id": "6VP8VEdropnn"
      }
    },
    {
      "cell_type": "code",
      "source": [],
      "metadata": {
        "id": "JVAA-GKGhHLy"
      },
      "execution_count": 22,
      "outputs": []
    },
    {
      "cell_type": "markdown",
      "source": [
        "\n",
        "\n",
        "9.  Les sports suivants ne font (malheureusement) plus partie des J.O : la natation synchronisée en solo, le tir à la corde, la corde à grimper, la montgolfière, le duel au pistolet, le vélo tandem, la course d’obstacles à la nage et le plongeon à distance. Par chance, le tir au pigeon n’a été mis en place qu’une seule fois pendant les Jeux Olympiques de Paris de 1900 ?\n",
        "\n"
      ],
      "metadata": {
        "id": "Z447hcF4oxB3"
      }
    },
    {
      "cell_type": "code",
      "source": [],
      "metadata": {
        "id": "yPQbXyUzo3e3"
      },
      "execution_count": 22,
      "outputs": []
    },
    {
      "cell_type": "markdown",
      "source": [
        "\n",
        "10. Les Jeux de 2016, à Rio, marqueront la 1è manifestation des JO en Amérique du Sud ?\n",
        "\n",
        "\n",
        "\n"
      ],
      "metadata": {
        "id": "8UKcQgCBo35O"
      }
    },
    {
      "cell_type": "code",
      "source": [],
      "metadata": {
        "id": "qCog3xDDo92Y"
      },
      "execution_count": 22,
      "outputs": []
    },
    {
      "cell_type": "markdown",
      "source": [
        "\n",
        "11.   Pendant les 17 jours des JO d’été de 2016, 10 500 athlètes, originaires de 205 pays, représenteront 42 sports différents et participeront à 306 épreuves, à Rio ?\n",
        "\n",
        "\n",
        "\n"
      ],
      "metadata": {
        "id": "4Cx_lkvJo-QN"
      }
    },
    {
      "cell_type": "code",
      "source": [],
      "metadata": {
        "id": "IQl5rloWpEYf"
      },
      "execution_count": 22,
      "outputs": []
    },
    {
      "cell_type": "markdown",
      "source": [
        "\n",
        "#- Questions ouvertes :\n",
        "   \n",
        "\n",
        "   \n",
        "\n",
        "\n",
        "\n",
        "1.   Combien de médailles la France a remporté : en tout, en Or, en argent et en Bronze (depuis le début des JO) ?\n",
        "\n",
        "\n",
        "\n",
        "\n",
        "\n",
        "\n"
      ],
      "metadata": {
        "id": "k42Y9hWMpFY4"
      }
    },
    {
      "cell_type": "markdown",
      "source": [],
      "metadata": {
        "id": "LioxVu1VqdxG"
      }
    },
    {
      "cell_type": "code",
      "source": [],
      "metadata": {
        "id": "C9jCOryeqXgG"
      },
      "execution_count": 22,
      "outputs": []
    },
    {
      "cell_type": "markdown",
      "source": [
        "2.  Lors de quelle JO la France a eu le plus (le moins) de succès ?\n",
        "\n"
      ],
      "metadata": {
        "id": "FJ763Xxipyty"
      }
    },
    {
      "cell_type": "code",
      "source": [],
      "metadata": {
        "id": "8fDlhH9jqYBQ"
      },
      "execution_count": 22,
      "outputs": []
    },
    {
      "cell_type": "markdown",
      "source": [
        "\n",
        "\n",
        "3.   Élément de listePeut-on considérer que la France est la grande spécialiste de certaine(s) discipline(s) sportive(s), comparativement aux autres notions ? Laquelle / Lesquelles ?\n",
        "\n"
      ],
      "metadata": {
        "id": "VIwOZFLHqQC4"
      }
    },
    {
      "cell_type": "code",
      "source": [
        "df_winter_medals=df_hosts.filter(col(\"Game_season\")==\"Winter\").select(\"Game_Slug\")"
      ],
      "metadata": {
        "id": "2gHCyD-8qaPm"
      },
      "execution_count": 23,
      "outputs": []
    },
    {
      "cell_type": "markdown",
      "source": [
        "\n",
        "\n",
        "4.   Quelles sont les sports les plus dominants dans les JO au fil des ans ?\n",
        "\n",
        "\n",
        "\n",
        "\n",
        "\n",
        "\n",
        "\n",
        "\n"
      ],
      "metadata": {
        "id": "FaX0WCu5p_dV"
      }
    },
    {
      "cell_type": "code",
      "source": [
        "df_hosts.show()\n",
        "df_athletes.show()\n"
      ],
      "metadata": {
        "colab": {
          "base_uri": "https://localhost:8080/"
        },
        "id": "CP1pvMWtqcrz",
        "outputId": "01895cd6-59dc-4f9e-cedb-15cbabb873c9"
      },
      "execution_count": 24,
      "outputs": [
        {
          "output_type": "stream",
          "name": "stdout",
          "text": [
            "+-----+-------------------+--------------------+--------------------+------------------+-------------------+-----------+---------+\n",
            "|Index|          Game_Slug|       Game_End_Date|     Game_Start_Date|     Game_Location|          Game_Name|Game_Season|Game_Year|\n",
            "+-----+-------------------+--------------------+--------------------+------------------+-------------------+-----------+---------+\n",
            "|    0|       beijing-2022|2022-02-20T12:00:00Z|2022-02-04T15:00:00Z|             China|       Beijing 2022|     Winter|     2022|\n",
            "|    1|         tokyo-2020|2021-08-08T14:00:00Z|2021-07-23T11:00:00Z|             Japan|         Tokyo 2020|     Summer|     2020|\n",
            "|    2|   pyeongchang-2018|2018-02-25T08:00:00Z|2018-02-08T23:00:00Z| Republic of Korea|   PyeongChang 2018|     Winter|     2018|\n",
            "|    3|           rio-2016|2016-08-21T21:00:00Z|2016-08-05T12:00:00Z|            Brazil|           Rio 2016|     Summer|     2016|\n",
            "|    4|         sochi-2014|2014-02-23T16:00:00Z|2014-02-07T04:00:00Z|Russian Federation|         Sochi 2014|     Winter|     2014|\n",
            "|    5|        london-2012|2012-08-12T19:00:00Z|2012-07-27T07:00:00Z|     Great Britain|        London 2012|     Summer|     2012|\n",
            "|    6|     vancouver-2010|2010-02-28T04:00:00Z|2010-02-12T16:00:00Z|            Canada|     Vancouver 2010|     Winter|     2010|\n",
            "|    7|       beijing-2008|2008-08-24T12:00:00Z|2008-08-08T00:00:00Z|             China|       Beijing 2008|     Summer|     2008|\n",
            "|    8|         turin-2006|2006-02-26T19:00:00Z|2006-02-10T07:00:00Z|             Italy|         Turin 2006|     Winter|     2006|\n",
            "|    9|        athens-2004|2004-08-29T18:00:00Z|2004-08-13T06:00:00Z|            Greece|        Athens 2004|     Summer|     2004|\n",
            "|   10|salt-lake-city-2002|2002-02-24T08:00:00Z|2002-02-08T15:00:00Z|     United States|Salt Lake City 2002|     Winter|     2002|\n",
            "|   11|        sydney-2000|2000-10-01T09:00:00Z|2000-09-15T01:00:00Z|         Australia|        Sydney 2000|     Summer|     2000|\n",
            "|   12|        nagano-1998|1998-02-22T11:00:00Z|1998-02-06T23:00:00Z|             Japan|        Nagano 1998|     Winter|     1998|\n",
            "|   13|       atlanta-1996|1996-08-05T21:00:00Z|1996-07-19T12:00:00Z|     United States|       Atlanta 1996|     Summer|     1996|\n",
            "|   14|   lillehammer-1994|1994-02-27T19:00:00Z|1994-02-12T07:00:00Z|            Norway|   Lillehammer 1994|     Winter|     1994|\n",
            "|   15|     barcelona-1992|1992-08-09T18:00:00Z|1992-07-25T06:00:00Z|             Spain|     Barcelona 1992|     Summer|     1992|\n",
            "|   16|   albertville-1992|1992-02-23T19:00:00Z|1992-02-08T07:00:00Z|            France|   Albertville 1992|     Winter|     1992|\n",
            "|   17|         seoul-1988|1988-10-02T10:00:00Z|1988-09-16T22:00:00Z| Republic of Korea|         Seoul 1988|     Summer|     1988|\n",
            "|   18|       calgary-1988|1988-02-28T03:00:00Z|1988-02-13T15:00:00Z|            Canada|       Calgary 1988|     Winter|     1988|\n",
            "|   19|   los-angeles-1984|1984-08-12T19:00:00Z|1984-07-28T15:00:00Z|     United States|   Los Angeles 1984|     Summer|     1984|\n",
            "+-----+-------------------+--------------------+--------------------+------------------+-------------------+-----------+---------+\n",
            "only showing top 20 rows\n",
            "\n",
            "+--------------------+--------------------+--------------------+------------------+--------------------+----------------+--------------------+\n",
            "|   athlete_full_name|      athlete_medals|         athlete_url|athlete_year_birth|                 bio|      first_game|games_participations|\n",
            "+--------------------+--------------------+--------------------+------------------+--------------------+----------------+--------------------+\n",
            "|    Mikael KINGSBURY|\\n\\n\\n1\\n\\nG\\n\\n\\...|https://olympics....|            1992.0|\\n\\n\\nIn the peri...|      Sochi 2014|                   3|\n",
            "|          David WISE|\\n\\n\\n2\\n\\nG\\n\\n\\...|https://olympics....|            1990.0|\\n\\n\\nThe favouri...|      Sochi 2014|                   3|\n",
            "|       Gus KENWORTHY|    \\n\\n\\n1\\n\\nS\\n\\n|https://olympics....|            1991.0|\\n\\n\\nAFP World C...|      Sochi 2014|                   3|\n",
            "|Jean Frederic CHA...|    \\n\\n\\n1\\n\\nG\\n\\n|https://olympics....|            1989.0|\\n\\n\\nA former Al...|      Sochi 2014|                   3|\n",
            "|    Ailing Eileen GU|\\n\\n\\n2\\n\\nG\\n\\n\\...|https://olympics....|            2003.0|\\n\\n\\nGU Ailing E...|    Beijing 2022|                   1|\n",
            "|     Perrine LAFFONT|    \\n\\n\\n1\\n\\nG\\n\\n|https://olympics....|            1998.0|\\n\\n\\nSa première...|      Sochi 2014|                   3|\n",
            "|Justine DUFOUR-LA...|\\n\\n\\n1\\n\\nG\\n\\n\\...|https://olympics....|            1994.0|\\n\\n\\nThe younges...|      Sochi 2014|                   3|\n",
            "|     Arianna FONTANA|\\n\\n\\n2\\n\\nG\\n\\n\\...|https://olympics....|            1990.0|\\n\\n\\nThe younges...|      Turin 2006|                   5|\n",
            "|     Charles HAMELIN|\\n\\n\\n4\\n\\nG\\n\\n\\...|https://olympics....|            1984.0|\\n\\n\\nA star of i...|      Turin 2006|                   5|\n",
            "|           Chloe KIM|    \\n\\n\\n2\\n\\nG\\n\\n|https://olympics....|            2000.0|\\n\\n\\nDespite bei...|PyeongChang 2018|                   2|\n",
            "|  Lindsey JACOBELLIS|\\n\\n\\n2\\n\\nG\\n\\n\\...|https://olympics....|            1985.0|\\n\\n\\nLindsey Jac...|      Turin 2006|                   5|\n",
            "|      Jamie ANDERSON|\\n\\n\\n2\\n\\nG\\n\\n\\...|https://olympics....|            1990.0|\\n\\n\\nJamie Ander...|      Sochi 2014|                   3|\n",
            "|         Anna GASSER|    \\n\\n\\n2\\n\\nG\\n\\n|https://olympics....|            1991.0|\\n\\n\\nAnna Gasser...|      Sochi 2014|                   3|\n",
            "|       Mark MCMORRIS|    \\n\\n\\n3\\n\\nB\\n\\n|https://olympics....|            1993.0|\\n\\n\\nIt is often...|      Sochi 2014|                   3|\n",
            "|      Redmond GERARD|    \\n\\n\\n1\\n\\nG\\n\\n|https://olympics....|            2000.0|\\n\\n\\nRedmond “Re...|PyeongChang 2018|                   2|\n",
            "|         Shaun WHITE|    \\n\\n\\n3\\n\\nG\\n\\n|https://olympics....|            1986.0|\\n\\n\\nShaun White...|      Turin 2006|                   5|\n",
            "|       Ester LEDECKA|    \\n\\n\\n3\\n\\nG\\n\\n|https://olympics....|            1995.0|\\n\\n\\nIn the spac...|      Sochi 2014|                   3|\n",
            "|        Simon AMMANN|    \\n\\n\\n4\\n\\nG\\n\\n|https://olympics....|            1981.0|\\n\\n\\nPrior to th...|     Nagano 1998|                   7|\n",
            "|         Kamil STOCH|\\n\\n\\n3\\n\\nG\\n\\n\\...|https://olympics....|            1987.0|\\n\\n\\nWith three ...|      Turin 2006|                   5|\n",
            "|      Sara TAKANASHI|    \\n\\n\\n1\\n\\nB\\n\\n|https://olympics....|            1996.0|\\n\\n\\nThe first w...|      Sochi 2014|                   3|\n",
            "+--------------------+--------------------+--------------------+------------------+--------------------+----------------+--------------------+\n",
            "only showing top 20 rows\n",
            "\n"
          ]
        }
      ]
    },
    {
      "cell_type": "code",
      "source": [
        "\n",
        "df_results.show()\n",
        "df_medals.show()"
      ],
      "metadata": {
        "colab": {
          "base_uri": "https://localhost:8080/"
        },
        "id": "MQ4gr_oMtRhh",
        "outputId": "c089e0f6-7378-46b5-c883-0e48f8c1f4a8"
      },
      "execution_count": 25,
      "outputs": [
        {
          "output_type": "stream",
          "name": "stdout",
          "text": [
            "+----------+----------------+-------------+------------+----------------+----------+--------------------+----------+-------------+--------------------+------------+---------------------+-----------+-----------------+----------+----------+\n",
            "|Unnamed: 0|discipline_title|  event_title|   slug_game|participant_type|medal_type|            athletes|rank_equal|rank_position|        country_name|country_code|country_3_letter_code|athlete_url|athlete_full_name|value_unit|value_type|\n",
            "+----------+----------------+-------------+------------+----------------+----------+--------------------+----------+-------------+--------------------+------------+---------------------+-----------+-----------------+----------+----------+\n",
            "|         0|         Curling|Mixed Doubles|beijing-2022|        GameTeam|      GOLD|[('Stefania CONST...|     false|            1|               Italy|          IT|                  ITA|        NaN|              NaN|       NaN|       NaN|\n",
            "|         1|         Curling|Mixed Doubles|beijing-2022|        GameTeam|    SILVER|[('Kristin SKASLI...|     false|            2|              Norway|          NO|                  NOR|        NaN|              NaN|       NaN|       NaN|\n",
            "|         2|         Curling|Mixed Doubles|beijing-2022|        GameTeam|    BRONZE|[('Almida DE VAL'...|     false|            3|              Sweden|          SE|                  SWE|        NaN|              NaN|       NaN|       NaN|\n",
            "|         3|         Curling|Mixed Doubles|beijing-2022|        GameTeam|       NaN|[('Jennifer DODDS...|     false|            4|       Great Britain|          GB|                  GBR|        NaN|              NaN|       NaN|       NaN|\n",
            "|         4|         Curling|Mixed Doubles|beijing-2022|        GameTeam|       NaN|[('Rachel HOMAN',...|     false|            5|              Canada|          CA|                  CAN|        NaN|              NaN|       NaN|       NaN|\n",
            "|         5|         Curling|Mixed Doubles|beijing-2022|        GameTeam|       NaN|[('Zuzana HAJKOVA...|     false|            6|      Czech Republic|          CZ|                  CZE|        NaN|              NaN|       NaN|       NaN|\n",
            "|         6|         Curling|Mixed Doubles|beijing-2022|        GameTeam|       NaN|[('Jenny PERRET',...|     false|            7|         Switzerland|          CH|                  SUI|        NaN|              NaN|       NaN|       NaN|\n",
            "|         7|         Curling|Mixed Doubles|beijing-2022|        GameTeam|       NaN|[('Vicky PERSINGE...|     false|            8|United States of ...|          US|                  USA|        NaN|              NaN|       NaN|       NaN|\n",
            "|         8|         Curling|Mixed Doubles|beijing-2022|        GameTeam|       NaN|[('Suyuan FAN', '...|     false|            9|People's Republic...|          CN|                  CHN|        NaN|              NaN|       NaN|       NaN|\n",
            "|         9|         Curling|Mixed Doubles|beijing-2022|        GameTeam|       NaN|[('Tahli GILL', '...|     false|           10|           Australia|          AU|                  AUS|        NaN|              NaN|       NaN|       NaN|\n",
            "|        10|         Curling|        Women|beijing-2022|        GameTeam|      GOLD|                 NaN|     false|            1|       Great Britain|          GB|                  GBR|        NaN|              NaN|       NaN|       NaN|\n",
            "|        11|         Curling|        Women|beijing-2022|        GameTeam|    SILVER|                 NaN|     false|            2|               Japan|          JP|                  JPN|        NaN|              NaN|       NaN|       NaN|\n",
            "|        12|         Curling|        Women|beijing-2022|        GameTeam|    BRONZE|                 NaN|     false|            3|              Sweden|          SE|                  SWE|        NaN|              NaN|       NaN|       NaN|\n",
            "|        13|         Curling|        Women|beijing-2022|        GameTeam|       NaN|                 NaN|     false|            4|         Switzerland|          CH|                  SUI|        NaN|              NaN|       NaN|       NaN|\n",
            "|        14|         Curling|        Women|beijing-2022|        GameTeam|       NaN|                 NaN|     false|            5|              Canada|          CA|                  CAN|        NaN|              NaN|       NaN|       NaN|\n",
            "|        15|         Curling|        Women|beijing-2022|        GameTeam|       NaN|                 NaN|     false|            6|United States of ...|          US|                  USA|        NaN|              NaN|       NaN|       NaN|\n",
            "|        16|         Curling|        Women|beijing-2022|        GameTeam|       NaN|                 NaN|     false|            7|People's Republic...|          CN|                  CHN|        NaN|              NaN|       NaN|       NaN|\n",
            "|        17|         Curling|        Women|beijing-2022|        GameTeam|       NaN|                 NaN|     false|            8|   Republic of Korea|          KR|                  KOR|        NaN|              NaN|       NaN|       NaN|\n",
            "|        18|         Curling|        Women|beijing-2022|        GameTeam|       NaN|                 NaN|     false|            9|             Denmark|          DK|                  DEN|        NaN|              NaN|       NaN|       NaN|\n",
            "|        19|         Curling|        Women|beijing-2022|        GameTeam|       NaN|                 NaN|     false|           10|                 ROC|         ROC|                  ROC|        NaN|              NaN|       NaN|       NaN|\n",
            "+----------+----------------+-------------+------------+----------------+----------+--------------------+----------+-------------+--------------------+------------+---------------------+-----------+-----------------+----------+----------+\n",
            "only showing top 20 rows\n",
            "\n",
            "+----------+----------------+------------+--------------------+------------+----------+----------------+--------------------+--------------------+--------------------+--------------------+------------+---------------------+\n",
            "|Unnamed: 0|discipline_title|   slug_game|         event_title|event_gender|medal_type|participant_type|   participant_title|         athlete_url|   athlete_full_name|        country_name|country_code|country_3_letter_code|\n",
            "+----------+----------------+------------+--------------------+------------+----------+----------------+--------------------+--------------------+--------------------+--------------------+------------+---------------------+\n",
            "|         0|         Curling|beijing-2022|       Mixed Doubles|       Mixed|      GOLD|        GameTeam|               Italy|https://olympics....|Stefania CONSTANTINI|               Italy|          IT|                  ITA|\n",
            "|         1|         Curling|beijing-2022|       Mixed Doubles|       Mixed|      GOLD|        GameTeam|               Italy|https://olympics....|        Amos MOSANER|               Italy|          IT|                  ITA|\n",
            "|         2|         Curling|beijing-2022|       Mixed Doubles|       Mixed|    SILVER|        GameTeam|              Norway|https://olympics....|    Kristin SKASLIEN|              Norway|          NO|                  NOR|\n",
            "|         3|         Curling|beijing-2022|       Mixed Doubles|       Mixed|    SILVER|        GameTeam|              Norway|https://olympics....|  Magnus NEDREGOTTEN|              Norway|          NO|                  NOR|\n",
            "|         4|         Curling|beijing-2022|       Mixed Doubles|       Mixed|    BRONZE|        GameTeam|              Sweden|https://olympics....|       Almida DE VAL|              Sweden|          SE|                  SWE|\n",
            "|         5|         Curling|beijing-2022|       Mixed Doubles|       Mixed|    BRONZE|        GameTeam|              Sweden|https://olympics....|      Oskar ERIKSSON|              Sweden|          SE|                  SWE|\n",
            "|        81|       Snowboard|beijing-2022|Mixed Team Snowbo...|       Mixed|      GOLD|        GameTeam|United States of ...|https://olympics....|    Nick BAUMGARTNER|United States of ...|          US|                  USA|\n",
            "|        82|       Snowboard|beijing-2022|Mixed Team Snowbo...|       Mixed|      GOLD|        GameTeam|United States of ...|https://olympics....|  Lindsey JACOBELLIS|United States of ...|          US|                  USA|\n",
            "|        83|       Snowboard|beijing-2022|Mixed Team Snowbo...|       Mixed|    SILVER|        GameTeam|             Italy 1|https://olympics....|       Omar VISINTIN|               Italy|          IT|                  ITA|\n",
            "|        84|       Snowboard|beijing-2022|Mixed Team Snowbo...|       Mixed|    SILVER|        GameTeam|             Italy 1|https://olympics....|      Michela MOIOLI|               Italy|          IT|                  ITA|\n",
            "|        85|       Snowboard|beijing-2022|Mixed Team Snowbo...|       Mixed|    BRONZE|        GameTeam|            Canada 1|https://olympics....|       Eliot GRONDIN|              Canada|          CA|                  CAN|\n",
            "|        86|       Snowboard|beijing-2022|Mixed Team Snowbo...|       Mixed|    BRONZE|        GameTeam|            Canada 1|https://olympics....|       Meryeta ODINE|              Canada|          CA|                  CAN|\n",
            "|       129|  Figure skating|beijing-2022|          Team Event|       Mixed|      GOLD|        GameTeam|                 ROC|https://olympics....|     Mark KONDRATIUK|                 ROC|         ROC|                  ROC|\n",
            "|       130|  Figure skating|beijing-2022|          Team Event|       Mixed|      GOLD|        GameTeam|                 ROC|https://olympics....|      Kamila VALIEVA|                 ROC|         ROC|                  ROC|\n",
            "|       133|  Figure skating|beijing-2022|        Pair Skating|       Mixed|      GOLD|        GameTeam|SUI Wenjing / HAN...|https://olympics....|         Wenjing SUI|People's Republic...|          CN|                  CHN|\n",
            "|       134|  Figure skating|beijing-2022|        Pair Skating|       Mixed|      GOLD|        GameTeam|SUI Wenjing / HAN...|https://olympics....|            Cong HAN|People's Republic...|          CN|                  CHN|\n",
            "|       135|  Figure skating|beijing-2022|        Pair Skating|       Mixed|    SILVER|        GameTeam|TARASOVA Evgenia ...|https://olympics....|    Evgenia TARASOVA|                 ROC|         ROC|                  ROC|\n",
            "|       136|  Figure skating|beijing-2022|        Pair Skating|       Mixed|    SILVER|        GameTeam|TARASOVA Evgenia ...|https://olympics....|    Vladimir MOROZOV|                 ROC|         ROC|                  ROC|\n",
            "|       137|  Figure skating|beijing-2022|        Pair Skating|       Mixed|    BRONZE|        GameTeam|MISHINA Anastasia...|https://olympics....|   Anastasia MISHINA|                 ROC|         ROC|                  ROC|\n",
            "|       138|  Figure skating|beijing-2022|        Pair Skating|       Mixed|    BRONZE|        GameTeam|MISHINA Anastasia...|https://olympics....| Aleksandr GALLIAMOV|                 ROC|         ROC|                  ROC|\n",
            "+----------+----------------+------------+--------------------+------------+----------+----------------+--------------------+--------------------+--------------------+--------------------+------------+---------------------+\n",
            "only showing top 20 rows\n",
            "\n"
          ]
        }
      ]
    },
    {
      "cell_type": "markdown",
      "source": [
        "# Supprimer les colonnes inutiles\n"
      ],
      "metadata": {
        "id": "jjJJvhyyXaSF"
      }
    },
    {
      "cell_type": "code",
      "source": [
        "athletes_cleaned = df_athletes.drop(\"athlete_url\")\n",
        "results_cleaned = df_results.drop(\"athlete_url\", \"value_unit\", \"value_type\")\n",
        "medals_cleaned=df_medals.drop(\"athlete_url\",\"Unnamed: 0\")\n",
        "# results_cleaned.show()"
      ],
      "metadata": {
        "id": "GVJSdO-qXXNA"
      },
      "execution_count": 26,
      "outputs": []
    },
    {
      "cell_type": "code",
      "source": [],
      "metadata": {
        "id": "iCRKJaaTXq9F"
      },
      "execution_count": 26,
      "outputs": []
    },
    {
      "cell_type": "code",
      "source": [],
      "metadata": {
        "id": "ddpTzVtRaR3l"
      },
      "execution_count": 26,
      "outputs": []
    },
    {
      "cell_type": "markdown",
      "source": [
        "# Conversion des types de données si nécessaire\n"
      ],
      "metadata": {
        "id": "JxKaCZuWgSQJ"
      }
    },
    {
      "cell_type": "code",
      "source": [
        "df_hosts.dtypes"
      ],
      "metadata": {
        "id": "_JrtcngdnhBv",
        "colab": {
          "base_uri": "https://localhost:8080/"
        },
        "outputId": "48a1cbb9-be49-444b-8371-f52ec2a4e6d4"
      },
      "execution_count": 27,
      "outputs": [
        {
          "output_type": "execute_result",
          "data": {
            "text/plain": [
              "[('Index', 'string'),\n",
              " ('Game_Slug', 'string'),\n",
              " ('Game_End_Date', 'string'),\n",
              " ('Game_Start_Date', 'string'),\n",
              " ('Game_Location', 'string'),\n",
              " ('Game_Name', 'string'),\n",
              " ('Game_Season', 'string'),\n",
              " ('Game_Year', 'string')]"
            ]
          },
          "metadata": {},
          "execution_count": 27
        }
      ]
    },
    {
      "cell_type": "code",
      "source": [
        "from pyspark.sql.functions import col, to_date\n",
        "df_hosts = df_hosts.withColumn(\"game_year\", col(\"game_year\").cast(\"integer\"))\n",
        "df_hosts = df_hosts.withColumn(\"index\", col(\"index\").cast(\"integer\"))\n",
        "df_hosts = df_hosts.withColumn(\"game_start_date\", to_date(col(\"game_start_date\")))\n",
        "df_hosts = df_hosts.withColumn(\"game_end_date\", to_date(col(\"game_end_date\")))\n",
        "# Afficher le schéma pour vérifier les conversions\n",
        "df_hosts.printSchema()"
      ],
      "metadata": {
        "id": "FqHwLBLYfIPo",
        "colab": {
          "base_uri": "https://localhost:8080/"
        },
        "outputId": "14885e45-89d5-4b78-87fe-d2e22249419c"
      },
      "execution_count": 28,
      "outputs": [
        {
          "output_type": "stream",
          "name": "stdout",
          "text": [
            "root\n",
            " |-- index: integer (nullable = true)\n",
            " |-- Game_Slug: string (nullable = true)\n",
            " |-- game_end_date: date (nullable = true)\n",
            " |-- game_start_date: date (nullable = true)\n",
            " |-- Game_Location: string (nullable = true)\n",
            " |-- Game_Name: string (nullable = true)\n",
            " |-- Game_Season: string (nullable = true)\n",
            " |-- game_year: integer (nullable = true)\n",
            "\n"
          ]
        }
      ]
    },
    {
      "cell_type": "markdown",
      "source": [
        "# Normalisation des valeurs numériques\n"
      ],
      "metadata": {
        "id": "2VArz1wWoNRs"
      }
    },
    {
      "cell_type": "code",
      "source": [
        "from pyspark.ml.feature import StandardScaler\n",
        "from pyspark.ml.feature import VectorAssembler"
      ],
      "metadata": {
        "id": "XrG-kP6qfIVF"
      },
      "execution_count": 29,
      "outputs": []
    },
    {
      "cell_type": "code",
      "source": [
        "df_medals.show()"
      ],
      "metadata": {
        "id": "OEPYlsjefIYT",
        "colab": {
          "base_uri": "https://localhost:8080/"
        },
        "outputId": "11b6b93d-c3db-455e-b537-975429f163a1"
      },
      "execution_count": 30,
      "outputs": [
        {
          "output_type": "stream",
          "name": "stdout",
          "text": [
            "+----------+----------------+------------+--------------------+------------+----------+----------------+--------------------+--------------------+--------------------+--------------------+------------+---------------------+\n",
            "|Unnamed: 0|discipline_title|   slug_game|         event_title|event_gender|medal_type|participant_type|   participant_title|         athlete_url|   athlete_full_name|        country_name|country_code|country_3_letter_code|\n",
            "+----------+----------------+------------+--------------------+------------+----------+----------------+--------------------+--------------------+--------------------+--------------------+------------+---------------------+\n",
            "|         0|         Curling|beijing-2022|       Mixed Doubles|       Mixed|      GOLD|        GameTeam|               Italy|https://olympics....|Stefania CONSTANTINI|               Italy|          IT|                  ITA|\n",
            "|         1|         Curling|beijing-2022|       Mixed Doubles|       Mixed|      GOLD|        GameTeam|               Italy|https://olympics....|        Amos MOSANER|               Italy|          IT|                  ITA|\n",
            "|         2|         Curling|beijing-2022|       Mixed Doubles|       Mixed|    SILVER|        GameTeam|              Norway|https://olympics....|    Kristin SKASLIEN|              Norway|          NO|                  NOR|\n",
            "|         3|         Curling|beijing-2022|       Mixed Doubles|       Mixed|    SILVER|        GameTeam|              Norway|https://olympics....|  Magnus NEDREGOTTEN|              Norway|          NO|                  NOR|\n",
            "|         4|         Curling|beijing-2022|       Mixed Doubles|       Mixed|    BRONZE|        GameTeam|              Sweden|https://olympics....|       Almida DE VAL|              Sweden|          SE|                  SWE|\n",
            "|         5|         Curling|beijing-2022|       Mixed Doubles|       Mixed|    BRONZE|        GameTeam|              Sweden|https://olympics....|      Oskar ERIKSSON|              Sweden|          SE|                  SWE|\n",
            "|        81|       Snowboard|beijing-2022|Mixed Team Snowbo...|       Mixed|      GOLD|        GameTeam|United States of ...|https://olympics....|    Nick BAUMGARTNER|United States of ...|          US|                  USA|\n",
            "|        82|       Snowboard|beijing-2022|Mixed Team Snowbo...|       Mixed|      GOLD|        GameTeam|United States of ...|https://olympics....|  Lindsey JACOBELLIS|United States of ...|          US|                  USA|\n",
            "|        83|       Snowboard|beijing-2022|Mixed Team Snowbo...|       Mixed|    SILVER|        GameTeam|             Italy 1|https://olympics....|       Omar VISINTIN|               Italy|          IT|                  ITA|\n",
            "|        84|       Snowboard|beijing-2022|Mixed Team Snowbo...|       Mixed|    SILVER|        GameTeam|             Italy 1|https://olympics....|      Michela MOIOLI|               Italy|          IT|                  ITA|\n",
            "|        85|       Snowboard|beijing-2022|Mixed Team Snowbo...|       Mixed|    BRONZE|        GameTeam|            Canada 1|https://olympics....|       Eliot GRONDIN|              Canada|          CA|                  CAN|\n",
            "|        86|       Snowboard|beijing-2022|Mixed Team Snowbo...|       Mixed|    BRONZE|        GameTeam|            Canada 1|https://olympics....|       Meryeta ODINE|              Canada|          CA|                  CAN|\n",
            "|       129|  Figure skating|beijing-2022|          Team Event|       Mixed|      GOLD|        GameTeam|                 ROC|https://olympics....|     Mark KONDRATIUK|                 ROC|         ROC|                  ROC|\n",
            "|       130|  Figure skating|beijing-2022|          Team Event|       Mixed|      GOLD|        GameTeam|                 ROC|https://olympics....|      Kamila VALIEVA|                 ROC|         ROC|                  ROC|\n",
            "|       133|  Figure skating|beijing-2022|        Pair Skating|       Mixed|      GOLD|        GameTeam|SUI Wenjing / HAN...|https://olympics....|         Wenjing SUI|People's Republic...|          CN|                  CHN|\n",
            "|       134|  Figure skating|beijing-2022|        Pair Skating|       Mixed|      GOLD|        GameTeam|SUI Wenjing / HAN...|https://olympics....|            Cong HAN|People's Republic...|          CN|                  CHN|\n",
            "|       135|  Figure skating|beijing-2022|        Pair Skating|       Mixed|    SILVER|        GameTeam|TARASOVA Evgenia ...|https://olympics....|    Evgenia TARASOVA|                 ROC|         ROC|                  ROC|\n",
            "|       136|  Figure skating|beijing-2022|        Pair Skating|       Mixed|    SILVER|        GameTeam|TARASOVA Evgenia ...|https://olympics....|    Vladimir MOROZOV|                 ROC|         ROC|                  ROC|\n",
            "|       137|  Figure skating|beijing-2022|        Pair Skating|       Mixed|    BRONZE|        GameTeam|MISHINA Anastasia...|https://olympics....|   Anastasia MISHINA|                 ROC|         ROC|                  ROC|\n",
            "|       138|  Figure skating|beijing-2022|        Pair Skating|       Mixed|    BRONZE|        GameTeam|MISHINA Anastasia...|https://olympics....| Aleksandr GALLIAMOV|                 ROC|         ROC|                  ROC|\n",
            "+----------+----------------+------------+--------------------+------------+----------+----------------+--------------------+--------------------+--------------------+--------------------+------------+---------------------+\n",
            "only showing top 20 rows\n",
            "\n"
          ]
        }
      ]
    }
  ]
}